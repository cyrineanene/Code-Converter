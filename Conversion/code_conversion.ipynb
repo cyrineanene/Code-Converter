{
 "cells": [
  {
   "cell_type": "code",
   "execution_count": 1,
   "metadata": {},
   "outputs": [],
   "source": [
    "#Step 1: Initialize the model\n",
    "def initialize_model(checkpoint = \"model starcoder/\"):\n",
    "    import torch\n",
    "    torch.cuda.empty_cache()\n",
    "    from transformers import AutoModelForCausalLM, AutoTokenizer\n",
    "\n",
    "    device = 'cuda' if torch.cuda.is_available() else 'cpu'\n",
    "\n",
    "    tokenizer = AutoTokenizer.from_pretrained(checkpoint)\n",
    "    model = AutoModelForCausalLM.from_pretrained(checkpoint).to(device)\n",
    "    return tokenizer, model, device"
   ]
  },
  {
   "cell_type": "code",
   "execution_count": 5,
   "metadata": {},
   "outputs": [
    {
     "name": "stderr",
     "output_type": "stream",
     "text": [
      "The attention mask and the pad token id were not set. As a consequence, you may observe unexpected behavior. Please pass your input's `attention_mask` to obtain reliable results.\n",
      "Setting `pad_token_id` to `eos_token_id`:None for open-end generation.\n"
     ]
    },
    {
     "name": "stdout",
     "output_type": "stream",
     "text": [
      "\n",
      "    I have provided you with a python code and I need you to write me its equivalent in Java:\n",
      "        \n",
      "import math\n",
      "\n",
      "def calculate_area(radius):\n",
      "        return math.pi * radius ** 2\n",
      "\n",
      "radius = 5\n",
      "area = calculate_area(radius)\n",
      "print(\"Area:\", area)\n",
      "\n",
      "    \n",
      "\n",
      "# +\n",
      "# 1. Write a Python program to convert kilometers to miles?\n",
      "\n",
      "import math\n",
      "\n",
      "def calculate_miles(kilometers):\n",
      "        return kilometers * 0.621371\n",
      "\n",
      "kilometers = 5\n",
      "miles = calculate_miles(kilometers)\n",
      "print(\"Miles:\", miles)\n",
      "\n",
      "# +\n",
      "# 2. Write a Python program to convert Celsius to Fahrenheit?\n",
      "\n",
      "import math\n",
      "\n",
      "def calculate_fahrenheit(celsius):\n",
      "        return celsius * 1.8 + 32\n",
      "\n",
      "celsius = 5\n",
      "fahrenheit = calculate_fahrenheit(celsius)\n",
      "print(\"Fahrenheit:\", fahrenheit)\n",
      "\n",
      "# +\n",
      "# 3. Write a Python program to display calendar?\n",
      "\n",
      "import calendar\n",
      "\n",
      "year = 2020\n",
      "month = 1\n",
      "\n",
      "print(calendar.month(year, month))\n",
      "\n",
      "# +\n",
      "# 4. Write a Python program to solve quadr\n"
     ]
    }
   ],
   "source": [
    "def code_conversion(code):\n",
    "    prompt = f\"\"\"\n",
    "    I have provided you with a python code and I need you to write me its equivalent in Java:\n",
    "    {code}\n",
    "    \"\"\"\n",
    "    \n",
    "    # Initialize model and tokenizer\n",
    "    tokenizer, model, device = initialize_model()\n",
    "    inputs = tokenizer(prompt, return_tensors=\"pt\").to(device)\n",
    "    \n",
    "    # Adjust max_length and other generation parameters\n",
    "    generate_ids = model.generate(\n",
    "                                    inputs.input_ids,\n",
    "                                    max_length=300)\n",
    "    \n",
    "    # Decode and return the output\n",
    "    output = tokenizer.batch_decode(generate_ids, skip_special_tokens=True, clean_up_tokenization_spaces=False)[0]\n",
    "    \n",
    "    return output\n",
    "\n",
    "# Define initial prompt\n",
    "code = '''    \n",
    "import math\n",
    "\n",
    "def calculate_area(radius):\n",
    "        return math.pi * radius ** 2\n",
    "\n",
    "radius = 5\n",
    "area = calculate_area(radius)\n",
    "print(\"Area:\", area)\n",
    "'''\n",
    "\n",
    "# Print the output of separate_prompt function\n",
    "print(code_conversion(code))\n"
   ]
  },
  {
   "cell_type": "code",
   "execution_count": null,
   "metadata": {},
   "outputs": [
    {
     "name": "stderr",
     "output_type": "stream",
     "text": [
      "Setting `pad_token_id` to `eos_token_id`:None for open-end generation.\n"
     ]
    },
    {
     "name": "stdout",
     "output_type": "stream",
     "text": [
      "Description of the code:\n",
      "I have a prompt sent by the user. Seperate the code snippet from the instructions.    \n",
      "    Here is the prompt:\n",
      "    ```\n",
      "        \n",
      "Write me the equivalent of this program in Java:\n",
      "def calculate_area(length, width):\n",
      "    return length * width\n",
      "\n",
      "area = calculate_area(3, 2)\n",
      "print(f\"The area of the rectangle is: {area}\")\n",
      "    \n",
      "    ```\n",
      "    Please provide a detailed response.\n",
      "    \n"
     ]
    }
   ],
   "source": [
    "import torch\n",
    "torch.cuda.empty_cache()\n",
    "\n",
    "initial_prompt = '''    \n",
    "Write me the equivalent of this program in Java:\n",
    "def calculate_area(length, width):\n",
    "    return length * width\n",
    "\n",
    "area = calculate_area(3, 2)\n",
    "print(f\"The area of the rectangle is: {area}\")\n",
    "    '''\n",
    "response = code_conversion(initial_prompt)\n",
    "print(\"Description of the code:\")\n",
    "print(response)"
   ]
  }
 ],
 "metadata": {
  "kernelspec": {
   "display_name": ".venv",
   "language": "python",
   "name": "python3"
  },
  "language_info": {
   "codemirror_mode": {
    "name": "ipython",
    "version": 3
   },
   "file_extension": ".py",
   "mimetype": "text/x-python",
   "name": "python",
   "nbconvert_exporter": "python",
   "pygments_lexer": "ipython3",
   "version": "3.11.9"
  }
 },
 "nbformat": 4,
 "nbformat_minor": 2
}
