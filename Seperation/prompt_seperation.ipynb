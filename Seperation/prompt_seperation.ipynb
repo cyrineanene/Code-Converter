{
 "cells": [
  {
   "cell_type": "code",
   "execution_count": 1,
   "metadata": {},
   "outputs": [],
   "source": [
    "#Step 1: Initialize the model\n",
    "def initialize_model(checkpoint = \"model starcoder/\"):\n",
    "    import torch\n",
    "    torch.cuda.empty_cache()\n",
    "    from transformers import AutoModelForCausalLM, AutoTokenizer\n",
    "\n",
    "    device = 'cuda' if torch.cuda.is_available() else 'cpu'\n",
    "\n",
    "    tokenizer = AutoTokenizer.from_pretrained(checkpoint)\n",
    "    model = AutoModelForCausalLM.from_pretrained(checkpoint).to(device)\n",
    "    return tokenizer, model, device"
   ]
  },
  {
   "cell_type": "code",
   "execution_count": 2,
   "metadata": {},
   "outputs": [
    {
     "name": "stderr",
     "output_type": "stream",
     "text": [
      "c:\\Users\\cyrin\\Documents\\SUPCOM\\tutore2\\Code-Converter\\.venv\\Lib\\site-packages\\tqdm\\auto.py:21: TqdmWarning: IProgress not found. Please update jupyter and ipywidgets. See https://ipywidgets.readthedocs.io/en/stable/user_install.html\n",
      "  from .autonotebook import tqdm as notebook_tqdm\n"
     ]
    },
    {
     "name": "stdout",
     "output_type": "stream",
     "text": [
      "\n",
      "    f\"Here is a prompt containing instructions and a code snippet. \"\n",
      "        f\"Please separate them into two parts: 'Instructions' and 'Code Snippet'. \"\n",
      "        f\"Return only the labeled sections.\n",
      "\n",
      "Here is the Prompt:\n",
      "    \n",
      "Write me the equivalent of this program in Java:\n",
      "def calculate_area(length, width):\n",
      "    return length * width\n",
      "\n",
      "\n",
      "\"\n",
      "    \n",
      "def label_sections(prompt: str) -> dict:\n",
      "    \"\"\"\n",
      "    Extract the labeled sections of the given prompt.\n",
      "\n",
      "    :param prompt: The prompt to extract the labeled sections from.\n",
      "    :return: The labeled sections of the prompt.\n",
      "    \"\"\"\n",
      "\n",
      "    def _get_section_text(prompt: str, label: str) -> str:\n",
      "        \"\"\"\n",
      "        Extract the text of a section in a prompt.\n",
      "\n",
      "        :param prompt: The prompt to extract the section from.\n",
      "        :\n"
     ]
    }
   ],
   "source": [
    "def separate_prompt(initial_prompt):\n",
    "    prompt = f\"\"\"\n",
    "    f\"Here is a prompt containing instructions and a code snippet. \"\n",
    "        f\"Please separate them into two parts: 'Instructions' and 'Code Snippet'. \"\n",
    "        f\"Return only the labeled sections.\\n\\nHere is the Prompt:\\n{initial_prompt}\\n\\n\"\n",
    "    \"\"\"\n",
    "    \n",
    "    # Initialize model and tokenizer\n",
    "    tokenizer, model, device = initialize_model()\n",
    "    inputs = tokenizer(prompt, return_tensors=\"pt\").to(device)\n",
    "    \n",
    "    # Adjust max_length and other generation parameters\n",
    "    generate_ids = model.generate(\n",
    "                                    inputs.input_ids,\n",
    "                                    max_length=inputs.input_ids.shape[1] + 100,  \n",
    "                                    attention_mask=inputs.attention_mask, \n",
    "                                    pad_token_id=tokenizer.eos_token_id,\n",
    "                                    eos_token_id=tokenizer.eos_token_id,\n",
    "                                    temperature=0.7,  \n",
    "                                    top_p=0.9,        \n",
    "                                    do_sample=True\n",
    ")\n",
    "    \n",
    "    # Decode and return the output\n",
    "    output = tokenizer.decode(generate_ids[0], skip_special_tokens=True, clean_up_tokenization_spaces=True)\n",
    "    \n",
    "    return output\n",
    "\n",
    "# Define initial prompt\n",
    "initial_prompt = '''    \n",
    "Write me the equivalent of this program in Java:\n",
    "def calculate_area(length, width):\n",
    "    return length * width\n",
    "'''\n",
    "\n",
    "# Print the output of separate_prompt function\n",
    "print(separate_prompt(initial_prompt))\n"
   ]
  },
  {
   "cell_type": "code",
   "execution_count": 21,
   "metadata": {},
   "outputs": [
    {
     "name": "stderr",
     "output_type": "stream",
     "text": [
      "Setting `pad_token_id` to `eos_token_id`:None for open-end generation.\n"
     ]
    },
    {
     "name": "stdout",
     "output_type": "stream",
     "text": [
      "Description of the code:\n",
      "I have a prompt sent by the user. Seperate the code snippet from the instructions.    \n",
      "    Here is the prompt:\n",
      "    ```\n",
      "        \n",
      "Write me the equivalent of this program in Java:\n",
      "def calculate_area(length, width):\n",
      "    return length * width\n",
      "\n",
      "area = calculate_area(3, 2)\n",
      "print(f\"The area of the rectangle is: {area}\")\n",
      "    \n",
      "    ```\n",
      "    Please provide a detailed response.\n",
      "    \n"
     ]
    }
   ],
   "source": [
    "import torch\n",
    "torch.cuda.empty_cache()\n",
    "\n",
    "initial_prompt = '''    \n",
    "Write me the equivalent of this program in Java:\n",
    "def calculate_area(length, width):\n",
    "    return length * width\n",
    "\n",
    "area = calculate_area(3, 2)\n",
    "print(f\"The area of the rectangle is: {area}\")\n",
    "    '''\n",
    "response = seperate_prompt(initial_prompt)\n",
    "print(\"Description of the code:\")\n",
    "print(response)"
   ]
  }
 ],
 "metadata": {
  "kernelspec": {
   "display_name": ".venv",
   "language": "python",
   "name": "python3"
  },
  "language_info": {
   "codemirror_mode": {
    "name": "ipython",
    "version": 3
   },
   "file_extension": ".py",
   "mimetype": "text/x-python",
   "name": "python",
   "nbconvert_exporter": "python",
   "pygments_lexer": "ipython3",
   "version": "3.11.9"
  }
 },
 "nbformat": 4,
 "nbformat_minor": 2
}
