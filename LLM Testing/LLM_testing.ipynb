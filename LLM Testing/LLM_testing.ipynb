{
 "cells": [
  {
   "cell_type": "code",
   "execution_count": 4,
   "metadata": {},
   "outputs": [
    {
     "data": {
      "text/plain": [
       "True"
      ]
     },
     "execution_count": 4,
     "metadata": {},
     "output_type": "execute_result"
    }
   ],
   "source": [
    "from dotenv import load_dotenv\n",
    "import os\n",
    "load_dotenv()"
   ]
  },
  {
   "cell_type": "code",
   "execution_count": 5,
   "metadata": {},
   "outputs": [
    {
     "name": "stderr",
     "output_type": "stream",
     "text": [
      "c:\\Users\\cyrin\\Documents\\SUPCOM\\tutore2\\Code-Converter\\.venv\\Lib\\site-packages\\tqdm\\auto.py:21: TqdmWarning: IProgress not found. Please update jupyter and ipywidgets. See https://ipywidgets.readthedocs.io/en/stable/user_install.html\n",
      "  from .autonotebook import tqdm as notebook_tqdm\n"
     ]
    }
   ],
   "source": [
    "from huggingface_hub import login\n",
    "huggingface_token = os.getenv(\"Huggingface\")\n",
    "login(token=huggingface_token)"
   ]
  },
  {
   "cell_type": "code",
   "execution_count": 6,
   "metadata": {},
   "outputs": [
    {
     "name": "stderr",
     "output_type": "stream",
     "text": [
      "\n",
      "A module that was compiled using NumPy 1.x cannot be run in\n",
      "NumPy 2.1.2 as it may crash. To support both 1.x and 2.x\n",
      "versions of NumPy, modules must be compiled with NumPy 2.0.\n",
      "Some module may need to rebuild instead e.g. with 'pybind11>=2.12'.\n",
      "\n",
      "If you are a user of the module, the easiest solution will be to\n",
      "downgrade to 'numpy<2' or try to upgrade the affected module.\n",
      "We expect that some modules will need time to support NumPy 2.\n",
      "\n",
      "Traceback (most recent call last):  File \"<frozen runpy>\", line 198, in _run_module_as_main\n",
      "  File \"<frozen runpy>\", line 88, in _run_code\n",
      "  File \"c:\\Users\\cyrin\\Documents\\SUPCOM\\tutore2\\Code-Converter\\.venv\\Lib\\site-packages\\ipykernel_launcher.py\", line 18, in <module>\n",
      "    app.launch_new_instance()\n",
      "  File \"c:\\Users\\cyrin\\Documents\\SUPCOM\\tutore2\\Code-Converter\\.venv\\Lib\\site-packages\\traitlets\\config\\application.py\", line 1075, in launch_instance\n",
      "    app.start()\n",
      "  File \"c:\\Users\\cyrin\\Documents\\SUPCOM\\tutore2\\Code-Converter\\.venv\\Lib\\site-packages\\ipykernel\\kernelapp.py\", line 739, in start\n",
      "    self.io_loop.start()\n",
      "  File \"c:\\Users\\cyrin\\Documents\\SUPCOM\\tutore2\\Code-Converter\\.venv\\Lib\\site-packages\\tornado\\platform\\asyncio.py\", line 205, in start\n",
      "    self.asyncio_loop.run_forever()\n",
      "  File \"C:\\Program Files\\WindowsApps\\PythonSoftwareFoundation.Python.3.11_3.11.2544.0_x64__qbz5n2kfra8p0\\Lib\\asyncio\\base_events.py\", line 608, in run_forever\n",
      "    self._run_once()\n",
      "  File \"C:\\Program Files\\WindowsApps\\PythonSoftwareFoundation.Python.3.11_3.11.2544.0_x64__qbz5n2kfra8p0\\Lib\\asyncio\\base_events.py\", line 1936, in _run_once\n",
      "    handle._run()\n",
      "  File \"C:\\Program Files\\WindowsApps\\PythonSoftwareFoundation.Python.3.11_3.11.2544.0_x64__qbz5n2kfra8p0\\Lib\\asyncio\\events.py\", line 84, in _run\n",
      "    self._context.run(self._callback, *self._args)\n",
      "  File \"c:\\Users\\cyrin\\Documents\\SUPCOM\\tutore2\\Code-Converter\\.venv\\Lib\\site-packages\\ipykernel\\kernelbase.py\", line 545, in dispatch_queue\n",
      "    await self.process_one()\n",
      "  File \"c:\\Users\\cyrin\\Documents\\SUPCOM\\tutore2\\Code-Converter\\.venv\\Lib\\site-packages\\ipykernel\\kernelbase.py\", line 534, in process_one\n",
      "    await dispatch(*args)\n",
      "  File \"c:\\Users\\cyrin\\Documents\\SUPCOM\\tutore2\\Code-Converter\\.venv\\Lib\\site-packages\\ipykernel\\kernelbase.py\", line 437, in dispatch_shell\n",
      "    await result\n",
      "  File \"c:\\Users\\cyrin\\Documents\\SUPCOM\\tutore2\\Code-Converter\\.venv\\Lib\\site-packages\\ipykernel\\ipkernel.py\", line 362, in execute_request\n",
      "    await super().execute_request(stream, ident, parent)\n",
      "  File \"c:\\Users\\cyrin\\Documents\\SUPCOM\\tutore2\\Code-Converter\\.venv\\Lib\\site-packages\\ipykernel\\kernelbase.py\", line 778, in execute_request\n",
      "    reply_content = await reply_content\n",
      "  File \"c:\\Users\\cyrin\\Documents\\SUPCOM\\tutore2\\Code-Converter\\.venv\\Lib\\site-packages\\ipykernel\\ipkernel.py\", line 449, in do_execute\n",
      "    res = shell.run_cell(\n",
      "  File \"c:\\Users\\cyrin\\Documents\\SUPCOM\\tutore2\\Code-Converter\\.venv\\Lib\\site-packages\\ipykernel\\zmqshell.py\", line 549, in run_cell\n",
      "    return super().run_cell(*args, **kwargs)\n",
      "  File \"c:\\Users\\cyrin\\Documents\\SUPCOM\\tutore2\\Code-Converter\\.venv\\Lib\\site-packages\\IPython\\core\\interactiveshell.py\", line 3075, in run_cell\n",
      "    result = self._run_cell(\n",
      "  File \"c:\\Users\\cyrin\\Documents\\SUPCOM\\tutore2\\Code-Converter\\.venv\\Lib\\site-packages\\IPython\\core\\interactiveshell.py\", line 3130, in _run_cell\n",
      "    result = runner(coro)\n",
      "  File \"c:\\Users\\cyrin\\Documents\\SUPCOM\\tutore2\\Code-Converter\\.venv\\Lib\\site-packages\\IPython\\core\\async_helpers.py\", line 128, in _pseudo_sync_runner\n",
      "    coro.send(None)\n",
      "  File \"c:\\Users\\cyrin\\Documents\\SUPCOM\\tutore2\\Code-Converter\\.venv\\Lib\\site-packages\\IPython\\core\\interactiveshell.py\", line 3334, in run_cell_async\n",
      "    has_raised = await self.run_ast_nodes(code_ast.body, cell_name,\n",
      "  File \"c:\\Users\\cyrin\\Documents\\SUPCOM\\tutore2\\Code-Converter\\.venv\\Lib\\site-packages\\IPython\\core\\interactiveshell.py\", line 3517, in run_ast_nodes\n",
      "    if await self.run_code(code, result, async_=asy):\n",
      "  File \"c:\\Users\\cyrin\\Documents\\SUPCOM\\tutore2\\Code-Converter\\.venv\\Lib\\site-packages\\IPython\\core\\interactiveshell.py\", line 3577, in run_code\n",
      "    exec(code_obj, self.user_global_ns, self.user_ns)\n",
      "  File \"C:\\Users\\cyrin\\AppData\\Local\\Temp\\ipykernel_22680\\3409188312.py\", line 1, in <module>\n",
      "    from transformers import AutoModelForCausalLM, AutoTokenizer\n",
      "  File \"c:\\Users\\cyrin\\Documents\\SUPCOM\\tutore2\\Code-Converter\\.venv\\Lib\\site-packages\\transformers\\utils\\import_utils.py\", line 1767, in __getattr__\n",
      "    value = getattr(module, name)\n",
      "  File \"c:\\Users\\cyrin\\Documents\\SUPCOM\\tutore2\\Code-Converter\\.venv\\Lib\\site-packages\\transformers\\utils\\import_utils.py\", line 1766, in __getattr__\n",
      "    module = self._get_module(self._class_to_module[name])\n",
      "  File \"c:\\Users\\cyrin\\Documents\\SUPCOM\\tutore2\\Code-Converter\\.venv\\Lib\\site-packages\\transformers\\utils\\import_utils.py\", line 1778, in _get_module\n",
      "    return importlib.import_module(\".\" + module_name, self.__name__)\n",
      "  File \"C:\\Program Files\\WindowsApps\\PythonSoftwareFoundation.Python.3.11_3.11.2544.0_x64__qbz5n2kfra8p0\\Lib\\importlib\\__init__.py\", line 126, in import_module\n",
      "    return _bootstrap._gcd_import(name[level:], package, level)\n",
      "  File \"c:\\Users\\cyrin\\Documents\\SUPCOM\\tutore2\\Code-Converter\\.venv\\Lib\\site-packages\\transformers\\models\\auto\\modeling_auto.py\", line 21, in <module>\n",
      "    from .auto_factory import (\n",
      "  File \"c:\\Users\\cyrin\\Documents\\SUPCOM\\tutore2\\Code-Converter\\.venv\\Lib\\site-packages\\transformers\\models\\auto\\auto_factory.py\", line 40, in <module>\n",
      "    from ...generation import GenerationMixin\n",
      "  File \"c:\\Users\\cyrin\\Documents\\SUPCOM\\tutore2\\Code-Converter\\.venv\\Lib\\site-packages\\transformers\\utils\\import_utils.py\", line 1766, in __getattr__\n",
      "    module = self._get_module(self._class_to_module[name])\n",
      "  File \"c:\\Users\\cyrin\\Documents\\SUPCOM\\tutore2\\Code-Converter\\.venv\\Lib\\site-packages\\transformers\\utils\\import_utils.py\", line 1778, in _get_module\n",
      "    return importlib.import_module(\".\" + module_name, self.__name__)\n",
      "  File \"C:\\Program Files\\WindowsApps\\PythonSoftwareFoundation.Python.3.11_3.11.2544.0_x64__qbz5n2kfra8p0\\Lib\\importlib\\__init__.py\", line 126, in import_module\n",
      "    return _bootstrap._gcd_import(name[level:], package, level)\n",
      "  File \"c:\\Users\\cyrin\\Documents\\SUPCOM\\tutore2\\Code-Converter\\.venv\\Lib\\site-packages\\transformers\\generation\\utils.py\", line 28, in <module>\n",
      "    from ..cache_utils import (\n",
      "  File \"c:\\Users\\cyrin\\Documents\\SUPCOM\\tutore2\\Code-Converter\\.venv\\Lib\\site-packages\\transformers\\cache_utils.py\", line 1853, in <module>\n",
      "    class OffloadedStaticCache(StaticCache):\n",
      "  File \"c:\\Users\\cyrin\\Documents\\SUPCOM\\tutore2\\Code-Converter\\.venv\\Lib\\site-packages\\transformers\\cache_utils.py\", line 1918, in OffloadedStaticCache\n",
      "    offload_device: Union[str, torch.device] = torch.device(\"cpu\"),\n",
      "c:\\Users\\cyrin\\Documents\\SUPCOM\\tutore2\\Code-Converter\\.venv\\Lib\\site-packages\\transformers\\cache_utils.py:1918: UserWarning: Failed to initialize NumPy: _ARRAY_API not found (Triggered internally at ..\\torch\\csrc\\utils\\tensor_numpy.cpp:84.)\n",
      "  offload_device: Union[str, torch.device] = torch.device(\"cpu\"),\n"
     ]
    }
   ],
   "source": [
    "from transformers import AutoModelForCausalLM, AutoTokenizer\n",
    "import torch"
   ]
  },
  {
   "cell_type": "code",
   "execution_count": 7,
   "metadata": {},
   "outputs": [],
   "source": [
    "checkpoint = \"model starcoder/\"\n",
    "device = 'cuda' if torch.cuda.is_available() else 'cpu'"
   ]
  },
  {
   "cell_type": "code",
   "execution_count": 16,
   "metadata": {},
   "outputs": [],
   "source": [
    "code = \"\"\"\n",
    "I have provided you with a python code and I need you to write me its equivalent in Java\n",
    "import math\n",
    "\n",
    "def calculate_area(radius):\n",
    "        return math.pi * radius ** 2\n",
    "\n",
    "radius = 5\n",
    "area = calculate_area(radius)\n",
    "print(\"Area:\", area)\n",
    "\"\"\""
   ]
  },
  {
   "cell_type": "code",
   "execution_count": 9,
   "metadata": {},
   "outputs": [],
   "source": [
    "tokenizer = AutoTokenizer.from_pretrained(checkpoint)\n",
    "model = AutoModelForCausalLM.from_pretrained(checkpoint).to(device)"
   ]
  },
  {
   "cell_type": "code",
   "execution_count": 18,
   "metadata": {},
   "outputs": [
    {
     "name": "stderr",
     "output_type": "stream",
     "text": [
      "The attention mask and the pad token id were not set. As a consequence, you may observe unexpected behavior. Please pass your input's `attention_mask` to obtain reliable results.\n",
      "Setting `pad_token_id` to `eos_token_id`:None for open-end generation.\n"
     ]
    },
    {
     "name": "stdout",
     "output_type": "stream",
     "text": [
      "\n",
      "I have provided you with a python code and I need you to write me its equivalent in Java\n",
      "import math\n",
      "\n",
      "def calculate_area(radius):\n",
      "        return math.pi * radius ** 2\n",
      "\n",
      "radius = 5\n",
      "area = calculate_area(radius)\n",
      "print(\"Area:\", area)\n",
      "\n",
      "I have tried to write it in Java but I am not sure if I am doing it right.\n",
      "\n",
      "public class Area {\n",
      "\n",
      "public static void main(String[] args) {\n",
      "\n",
      "double radius = 5;\n",
      "double area = Math.PI * radius * radius;\n",
      "System.out.println(\"Area: \" + area);\n",
      "\n",
      "}\n",
      "\n",
      "}\n",
      "\n",
      "• Welcome to Code Review! Please take the tour to get familiar with this site. I have rolled back the edit of your question. Please do not edit your question after receiving answers. –  May 14 '18 at 13:11\n",
      "• @SebastianRieseberg I have rolled back the edit. I am not sure if I am doing it right. –  May 14 '18 at 13:12\n",
      "• @SebastianRieseberg I have rolled back the edit. I am not sure if I am doing it right. –  May 14 '18 at 13:12\n",
      "• @SebastianRieseberg I\n"
     ]
    }
   ],
   "source": [
    "inputs = tokenizer(code, return_tensors=\"pt\").input_ids.to(device)\n",
    "#I need to set it dynamically to be len(input_ids) + extra_length\n",
    "#extra_length = max(int(inputs.size(1) * 0.2), 1)\n",
    "#max_length = inputs.size(1) + extra_length\n",
    "#in here i have set the max_length to 38 optimized to the example i am using it needs to be studied later \n",
    "generate_ids = model.generate(inputs, max_length=300)\n",
    "print(tokenizer.batch_decode(generate_ids, skip_special_tokens=True, clean_up_tokenization_spaces=False)[0])\n",
    "#outputs = model.generate(input_ids)\n",
    "#print(tokenizer.decode(outputs[0], skip_special_tokens=False))"
   ]
  }
 ],
 "metadata": {
  "kernelspec": {
   "display_name": ".venv",
   "language": "python",
   "name": "python3"
  },
  "language_info": {
   "codemirror_mode": {
    "name": "ipython",
    "version": 3
   },
   "file_extension": ".py",
   "mimetype": "text/x-python",
   "name": "python",
   "nbconvert_exporter": "python",
   "pygments_lexer": "ipython3",
   "version": "3.11.9"
  }
 },
 "nbformat": 4,
 "nbformat_minor": 2
}
